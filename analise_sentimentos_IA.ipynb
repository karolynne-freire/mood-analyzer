{
 "cells": [
  {
   "cell_type": "markdown",
   "id": "5eb044c7",
   "metadata": {},
   "source": [
    "\n",
    "# 🧠 Análise de Sentimentos com IA\n",
    "\n",
    "Este notebook utiliza o modelo de linguagem da biblioteca `transformers` da Hugging Face para analisar sentimentos em frases.\n"
   ]
  },
  {
   "cell_type": "code",
   "execution_count": null,
   "id": "dee96b63",
   "metadata": {},
   "outputs": [],
   "source": [
    "\n",
    "!pip install transformers\n",
    "!pip install torch\n"
   ]
  },
  {
   "cell_type": "code",
   "execution_count": null,
   "id": "2b97f72f",
   "metadata": {},
   "outputs": [],
   "source": [
    "\n",
    "from transformers import pipeline\n",
    "\n",
    "# Cria o pipeline de análise de sentimentos\n",
    "analisador = pipeline(\"sentiment-analysis\")\n"
   ]
  },
  {
   "cell_type": "code",
   "execution_count": null,
   "id": "997dc35c",
   "metadata": {},
   "outputs": [],
   "source": [
    "\n",
    "# Frases que serão analisadas\n",
    "frases = [\n",
    "    \"Hoje acordei com uma sensação boa, como se algo incrível fosse acontecer.\",\n",
    "    \"Aprender programação tem sido um desafio, mas cada pequeno avanço me dá motivação.\",\n",
    "    \"Às vezes me sinto sobrecarregado, mas sei que faz parte do crescimento.\"\n",
    "]\n"
   ]
  },
  {
   "cell_type": "code",
   "execution_count": null,
   "id": "92d58e7e",
   "metadata": {},
   "outputs": [],
   "source": [
    "\n",
    "# Análise das frases\n",
    "for frase in frases:\n",
    "    resultado = analisador(frase)\n",
    "    print(f\"Frase: {frase}\")\n",
    "    print(f\"Resultado da IA: {resultado}\\n\")\n"
   ]
  },
  {
   "cell_type": "markdown",
   "id": "627ccc2a",
   "metadata": {},
   "source": [
    "\n",
    "## ✅ Conclusão\n",
    "\n",
    "A IA conseguiu detectar os sentimentos principais expressos em cada frase. Este tipo de análise pode ser usado para:\n",
    "- Monitorar humor ou bem-estar emocional\n",
    "- Entender padrões de pensamento\n",
    "- Aplicações em diários pessoais inteligentes, redes sociais ou sistemas de apoio emocional\n"
   ]
  }
 ],
 "metadata": {},
 "nbformat": 4,
 "nbformat_minor": 5
}
